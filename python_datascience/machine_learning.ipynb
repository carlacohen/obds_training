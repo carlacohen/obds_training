{
 "cells": [
  {
   "cell_type": "markdown",
   "id": "supposed-victoria",
   "metadata": {},
   "source": [
    "# Machine learning tutorial Feb 11th 2021  \n",
    "From Edward Morrissey\n",
    "\n",
    "Original data had 10,000 cells per cell type I’ve processed and filtered the\n",
    "data\n",
    "- 400 cells per file and ~6,000 genes that were filtered on expression level and variability\n",
    "- Data is normalised by dividing by the total counts per cell and multiplied by 10,000\n",
    "\n",
    "TODO  \n",
    "Read in the data - this is a single cell RNAseq dataset published in 2017  \n",
    "We are pulling in 10 different cell types and concatenating them, so that then we can find a model that will separate them out.\n",
    "\n"
   ]
  },
  {
   "cell_type": "code",
   "execution_count": 47,
   "id": "acute-prison",
   "metadata": {},
   "outputs": [],
   "source": [
    "import pandas as pd\n",
    "import numpy as np\n",
    "import umap\n",
    "import os\n",
    "import matplotlib.pyplot as plt\n",
    "import seaborn as sns; sns.set()\n",
    "sns.set_style(\"white\") #change the graph style so no background \n",
    "from sklearn.model_selection import train_test_split\n",
    "from sklearn.tree import DecisionTreeClassifier\n",
    "from sklearn.ensemble import RandomForestClassifier\n",
    "from sklearn.ensemble import ExtraTreesClassifier\n",
    "from sklearn.metrics import confusion_matrix\n",
    "from sklearn import svm"
   ]
  },
  {
   "cell_type": "code",
   "execution_count": 7,
   "id": "primary-assault",
   "metadata": {},
   "outputs": [],
   "source": [
    "\n",
    "#create a list of the datasets (10 .gz files)\n",
    "data_sets = os.listdir(\"/ifs/obds-training/jan21/exercises/machine_learning/Sep_data/\")\n",
    "\n",
    "#read in each dataset in the folder (for file_i in) tells us to iterate over each file in the list and create a pandas datafram\n",
    "#This is called list comprehension\n",
    "#It creates a list of dataframe objects\n",
    "all_data   = [pd.read_csv(\"/ifs/obds-training/jan21/exercises/machine_learning/Sep_data/\" + file_i) for file_i in data_sets]\n",
    "\n",
    "#concatenate the datasets\n",
    "all_data   = pd.concat(all_data)\n",
    "\n",
    "#create a label for each cell type (400 is because there are 400 cells in each class)\n",
    "labels     = np.repeat(data_sets, 400)\n",
    "\n",
    "#make a row number for each label\n",
    "labels_num = np.repeat(range(len(data_sets)), 400)"
   ]
  },
  {
   "cell_type": "code",
   "execution_count": 14,
   "id": "forward-transsexual",
   "metadata": {},
   "outputs": [
    {
     "data": {
      "text/plain": [
       "array([0, 0, 0, ..., 9, 9, 9])"
      ]
     },
     "execution_count": 14,
     "metadata": {},
     "output_type": "execute_result"
    }
   ],
   "source": [
    "labels_num"
   ]
  },
  {
   "cell_type": "code",
   "execution_count": 15,
   "id": "forced-tribute",
   "metadata": {},
   "outputs": [
    {
     "data": {
      "text/plain": [
       "array(['naive_t.gz', 'naive_t.gz', 'naive_t.gz', ...,\n",
       "       'naive_cytotoxic.gz', 'naive_cytotoxic.gz', 'naive_cytotoxic.gz'],\n",
       "      dtype='<U18')"
      ]
     },
     "execution_count": 15,
     "metadata": {},
     "output_type": "execute_result"
    }
   ],
   "source": [
    "labels"
   ]
  },
  {
   "cell_type": "code",
   "execution_count": 8,
   "id": "disturbed-boards",
   "metadata": {},
   "outputs": [
    {
     "data": {
      "text/plain": [
       "['naive_t.gz',\n",
       " 'cd56_nk.gz',\n",
       " 'memory_t.gz',\n",
       " 'cd4_t_helper.gz',\n",
       " 'cd34.gz',\n",
       " 'regulatory_t.gz',\n",
       " 'b_cells.gz',\n",
       " 'cd14_monocytes.gz',\n",
       " 'cytotoxic_t.gz',\n",
       " 'naive_cytotoxic.gz']"
      ]
     },
     "execution_count": 8,
     "metadata": {},
     "output_type": "execute_result"
    }
   ],
   "source": [
    "data_sets #this is a list"
   ]
  },
  {
   "cell_type": "code",
   "execution_count": 11,
   "id": "successful-saver",
   "metadata": {},
   "outputs": [
    {
     "data": {
      "text/html": [
       "<div>\n",
       "<style scoped>\n",
       "    .dataframe tbody tr th:only-of-type {\n",
       "        vertical-align: middle;\n",
       "    }\n",
       "\n",
       "    .dataframe tbody tr th {\n",
       "        vertical-align: top;\n",
       "    }\n",
       "\n",
       "    .dataframe thead th {\n",
       "        text-align: right;\n",
       "    }\n",
       "</style>\n",
       "<table border=\"1\" class=\"dataframe\">\n",
       "  <thead>\n",
       "    <tr style=\"text-align: right;\">\n",
       "      <th></th>\n",
       "      <th>A1BG</th>\n",
       "      <th>AAAS</th>\n",
       "      <th>AAED1</th>\n",
       "      <th>AAGAB</th>\n",
       "      <th>AAK1</th>\n",
       "      <th>AAMDC</th>\n",
       "      <th>AAMP</th>\n",
       "      <th>AAR2</th>\n",
       "      <th>AARSD1</th>\n",
       "      <th>AASDHPPT</th>\n",
       "      <th>...</th>\n",
       "      <th>ZNHIT3</th>\n",
       "      <th>ZNHIT6</th>\n",
       "      <th>ZNRD1</th>\n",
       "      <th>ZRANB2</th>\n",
       "      <th>ZRSR2</th>\n",
       "      <th>ZSCAN16</th>\n",
       "      <th>ZSCAN16-AS1</th>\n",
       "      <th>ZSCAN18</th>\n",
       "      <th>ZSWIM7</th>\n",
       "      <th>ZYX</th>\n",
       "    </tr>\n",
       "  </thead>\n",
       "  <tbody>\n",
       "    <tr>\n",
       "      <th>0</th>\n",
       "      <td>0.000000</td>\n",
       "      <td>7.722008</td>\n",
       "      <td>0.0</td>\n",
       "      <td>0.0</td>\n",
       "      <td>0.000000</td>\n",
       "      <td>0.0</td>\n",
       "      <td>0.00000</td>\n",
       "      <td>7.722008</td>\n",
       "      <td>0.000000</td>\n",
       "      <td>0.0</td>\n",
       "      <td>...</td>\n",
       "      <td>0.0</td>\n",
       "      <td>0.0</td>\n",
       "      <td>0.0</td>\n",
       "      <td>0.0</td>\n",
       "      <td>0.000000</td>\n",
       "      <td>0.0</td>\n",
       "      <td>0.0</td>\n",
       "      <td>0.0</td>\n",
       "      <td>0.0</td>\n",
       "      <td>7.722008</td>\n",
       "    </tr>\n",
       "    <tr>\n",
       "      <th>1</th>\n",
       "      <td>0.000000</td>\n",
       "      <td>0.000000</td>\n",
       "      <td>0.0</td>\n",
       "      <td>0.0</td>\n",
       "      <td>0.000000</td>\n",
       "      <td>0.0</td>\n",
       "      <td>0.00000</td>\n",
       "      <td>0.000000</td>\n",
       "      <td>0.000000</td>\n",
       "      <td>0.0</td>\n",
       "      <td>...</td>\n",
       "      <td>0.0</td>\n",
       "      <td>0.0</td>\n",
       "      <td>0.0</td>\n",
       "      <td>0.0</td>\n",
       "      <td>0.000000</td>\n",
       "      <td>0.0</td>\n",
       "      <td>0.0</td>\n",
       "      <td>0.0</td>\n",
       "      <td>0.0</td>\n",
       "      <td>0.000000</td>\n",
       "    </tr>\n",
       "    <tr>\n",
       "      <th>2</th>\n",
       "      <td>0.000000</td>\n",
       "      <td>0.000000</td>\n",
       "      <td>0.0</td>\n",
       "      <td>0.0</td>\n",
       "      <td>0.000000</td>\n",
       "      <td>0.0</td>\n",
       "      <td>0.00000</td>\n",
       "      <td>0.000000</td>\n",
       "      <td>0.000000</td>\n",
       "      <td>0.0</td>\n",
       "      <td>...</td>\n",
       "      <td>0.0</td>\n",
       "      <td>0.0</td>\n",
       "      <td>0.0</td>\n",
       "      <td>0.0</td>\n",
       "      <td>0.000000</td>\n",
       "      <td>0.0</td>\n",
       "      <td>0.0</td>\n",
       "      <td>0.0</td>\n",
       "      <td>0.0</td>\n",
       "      <td>0.000000</td>\n",
       "    </tr>\n",
       "    <tr>\n",
       "      <th>3</th>\n",
       "      <td>8.488964</td>\n",
       "      <td>0.000000</td>\n",
       "      <td>0.0</td>\n",
       "      <td>0.0</td>\n",
       "      <td>0.000000</td>\n",
       "      <td>0.0</td>\n",
       "      <td>0.00000</td>\n",
       "      <td>0.000000</td>\n",
       "      <td>8.488964</td>\n",
       "      <td>0.0</td>\n",
       "      <td>...</td>\n",
       "      <td>0.0</td>\n",
       "      <td>0.0</td>\n",
       "      <td>0.0</td>\n",
       "      <td>0.0</td>\n",
       "      <td>0.000000</td>\n",
       "      <td>0.0</td>\n",
       "      <td>0.0</td>\n",
       "      <td>0.0</td>\n",
       "      <td>0.0</td>\n",
       "      <td>0.000000</td>\n",
       "    </tr>\n",
       "    <tr>\n",
       "      <th>4</th>\n",
       "      <td>0.000000</td>\n",
       "      <td>0.000000</td>\n",
       "      <td>0.0</td>\n",
       "      <td>0.0</td>\n",
       "      <td>0.000000</td>\n",
       "      <td>0.0</td>\n",
       "      <td>0.00000</td>\n",
       "      <td>0.000000</td>\n",
       "      <td>0.000000</td>\n",
       "      <td>0.0</td>\n",
       "      <td>...</td>\n",
       "      <td>0.0</td>\n",
       "      <td>0.0</td>\n",
       "      <td>0.0</td>\n",
       "      <td>0.0</td>\n",
       "      <td>0.000000</td>\n",
       "      <td>0.0</td>\n",
       "      <td>0.0</td>\n",
       "      <td>0.0</td>\n",
       "      <td>0.0</td>\n",
       "      <td>9.174312</td>\n",
       "    </tr>\n",
       "    <tr>\n",
       "      <th>...</th>\n",
       "      <td>...</td>\n",
       "      <td>...</td>\n",
       "      <td>...</td>\n",
       "      <td>...</td>\n",
       "      <td>...</td>\n",
       "      <td>...</td>\n",
       "      <td>...</td>\n",
       "      <td>...</td>\n",
       "      <td>...</td>\n",
       "      <td>...</td>\n",
       "      <td>...</td>\n",
       "      <td>...</td>\n",
       "      <td>...</td>\n",
       "      <td>...</td>\n",
       "      <td>...</td>\n",
       "      <td>...</td>\n",
       "      <td>...</td>\n",
       "      <td>...</td>\n",
       "      <td>...</td>\n",
       "      <td>...</td>\n",
       "      <td>...</td>\n",
       "    </tr>\n",
       "    <tr>\n",
       "      <th>395</th>\n",
       "      <td>4.945598</td>\n",
       "      <td>0.000000</td>\n",
       "      <td>0.0</td>\n",
       "      <td>0.0</td>\n",
       "      <td>0.000000</td>\n",
       "      <td>0.0</td>\n",
       "      <td>0.00000</td>\n",
       "      <td>0.000000</td>\n",
       "      <td>0.000000</td>\n",
       "      <td>0.0</td>\n",
       "      <td>...</td>\n",
       "      <td>0.0</td>\n",
       "      <td>0.0</td>\n",
       "      <td>0.0</td>\n",
       "      <td>0.0</td>\n",
       "      <td>0.000000</td>\n",
       "      <td>0.0</td>\n",
       "      <td>0.0</td>\n",
       "      <td>0.0</td>\n",
       "      <td>0.0</td>\n",
       "      <td>4.945598</td>\n",
       "    </tr>\n",
       "    <tr>\n",
       "      <th>396</th>\n",
       "      <td>0.000000</td>\n",
       "      <td>0.000000</td>\n",
       "      <td>0.0</td>\n",
       "      <td>0.0</td>\n",
       "      <td>4.873294</td>\n",
       "      <td>0.0</td>\n",
       "      <td>0.00000</td>\n",
       "      <td>0.000000</td>\n",
       "      <td>0.000000</td>\n",
       "      <td>0.0</td>\n",
       "      <td>...</td>\n",
       "      <td>0.0</td>\n",
       "      <td>0.0</td>\n",
       "      <td>0.0</td>\n",
       "      <td>0.0</td>\n",
       "      <td>4.873294</td>\n",
       "      <td>0.0</td>\n",
       "      <td>0.0</td>\n",
       "      <td>0.0</td>\n",
       "      <td>0.0</td>\n",
       "      <td>0.000000</td>\n",
       "    </tr>\n",
       "    <tr>\n",
       "      <th>397</th>\n",
       "      <td>5.706134</td>\n",
       "      <td>0.000000</td>\n",
       "      <td>0.0</td>\n",
       "      <td>0.0</td>\n",
       "      <td>0.000000</td>\n",
       "      <td>0.0</td>\n",
       "      <td>0.00000</td>\n",
       "      <td>0.000000</td>\n",
       "      <td>0.000000</td>\n",
       "      <td>0.0</td>\n",
       "      <td>...</td>\n",
       "      <td>0.0</td>\n",
       "      <td>0.0</td>\n",
       "      <td>0.0</td>\n",
       "      <td>0.0</td>\n",
       "      <td>0.000000</td>\n",
       "      <td>0.0</td>\n",
       "      <td>0.0</td>\n",
       "      <td>0.0</td>\n",
       "      <td>0.0</td>\n",
       "      <td>0.000000</td>\n",
       "    </tr>\n",
       "    <tr>\n",
       "      <th>398</th>\n",
       "      <td>0.000000</td>\n",
       "      <td>0.000000</td>\n",
       "      <td>0.0</td>\n",
       "      <td>0.0</td>\n",
       "      <td>0.000000</td>\n",
       "      <td>0.0</td>\n",
       "      <td>0.00000</td>\n",
       "      <td>0.000000</td>\n",
       "      <td>0.000000</td>\n",
       "      <td>0.0</td>\n",
       "      <td>...</td>\n",
       "      <td>0.0</td>\n",
       "      <td>0.0</td>\n",
       "      <td>0.0</td>\n",
       "      <td>0.0</td>\n",
       "      <td>0.000000</td>\n",
       "      <td>0.0</td>\n",
       "      <td>0.0</td>\n",
       "      <td>0.0</td>\n",
       "      <td>0.0</td>\n",
       "      <td>0.000000</td>\n",
       "    </tr>\n",
       "    <tr>\n",
       "      <th>399</th>\n",
       "      <td>7.468260</td>\n",
       "      <td>0.000000</td>\n",
       "      <td>0.0</td>\n",
       "      <td>0.0</td>\n",
       "      <td>0.000000</td>\n",
       "      <td>0.0</td>\n",
       "      <td>7.46826</td>\n",
       "      <td>0.000000</td>\n",
       "      <td>0.000000</td>\n",
       "      <td>0.0</td>\n",
       "      <td>...</td>\n",
       "      <td>0.0</td>\n",
       "      <td>0.0</td>\n",
       "      <td>0.0</td>\n",
       "      <td>0.0</td>\n",
       "      <td>0.000000</td>\n",
       "      <td>0.0</td>\n",
       "      <td>0.0</td>\n",
       "      <td>0.0</td>\n",
       "      <td>0.0</td>\n",
       "      <td>0.000000</td>\n",
       "    </tr>\n",
       "  </tbody>\n",
       "</table>\n",
       "<p>4000 rows × 6188 columns</p>\n",
       "</div>"
      ],
      "text/plain": [
       "         A1BG      AAAS  AAED1  AAGAB      AAK1  AAMDC     AAMP      AAR2  \\\n",
       "0    0.000000  7.722008    0.0    0.0  0.000000    0.0  0.00000  7.722008   \n",
       "1    0.000000  0.000000    0.0    0.0  0.000000    0.0  0.00000  0.000000   \n",
       "2    0.000000  0.000000    0.0    0.0  0.000000    0.0  0.00000  0.000000   \n",
       "3    8.488964  0.000000    0.0    0.0  0.000000    0.0  0.00000  0.000000   \n",
       "4    0.000000  0.000000    0.0    0.0  0.000000    0.0  0.00000  0.000000   \n",
       "..        ...       ...    ...    ...       ...    ...      ...       ...   \n",
       "395  4.945598  0.000000    0.0    0.0  0.000000    0.0  0.00000  0.000000   \n",
       "396  0.000000  0.000000    0.0    0.0  4.873294    0.0  0.00000  0.000000   \n",
       "397  5.706134  0.000000    0.0    0.0  0.000000    0.0  0.00000  0.000000   \n",
       "398  0.000000  0.000000    0.0    0.0  0.000000    0.0  0.00000  0.000000   \n",
       "399  7.468260  0.000000    0.0    0.0  0.000000    0.0  7.46826  0.000000   \n",
       "\n",
       "       AARSD1  AASDHPPT  ...  ZNHIT3  ZNHIT6  ZNRD1  ZRANB2     ZRSR2  \\\n",
       "0    0.000000       0.0  ...     0.0     0.0    0.0     0.0  0.000000   \n",
       "1    0.000000       0.0  ...     0.0     0.0    0.0     0.0  0.000000   \n",
       "2    0.000000       0.0  ...     0.0     0.0    0.0     0.0  0.000000   \n",
       "3    8.488964       0.0  ...     0.0     0.0    0.0     0.0  0.000000   \n",
       "4    0.000000       0.0  ...     0.0     0.0    0.0     0.0  0.000000   \n",
       "..        ...       ...  ...     ...     ...    ...     ...       ...   \n",
       "395  0.000000       0.0  ...     0.0     0.0    0.0     0.0  0.000000   \n",
       "396  0.000000       0.0  ...     0.0     0.0    0.0     0.0  4.873294   \n",
       "397  0.000000       0.0  ...     0.0     0.0    0.0     0.0  0.000000   \n",
       "398  0.000000       0.0  ...     0.0     0.0    0.0     0.0  0.000000   \n",
       "399  0.000000       0.0  ...     0.0     0.0    0.0     0.0  0.000000   \n",
       "\n",
       "     ZSCAN16  ZSCAN16-AS1  ZSCAN18  ZSWIM7       ZYX  \n",
       "0        0.0          0.0      0.0     0.0  7.722008  \n",
       "1        0.0          0.0      0.0     0.0  0.000000  \n",
       "2        0.0          0.0      0.0     0.0  0.000000  \n",
       "3        0.0          0.0      0.0     0.0  0.000000  \n",
       "4        0.0          0.0      0.0     0.0  9.174312  \n",
       "..       ...          ...      ...     ...       ...  \n",
       "395      0.0          0.0      0.0     0.0  4.945598  \n",
       "396      0.0          0.0      0.0     0.0  0.000000  \n",
       "397      0.0          0.0      0.0     0.0  0.000000  \n",
       "398      0.0          0.0      0.0     0.0  0.000000  \n",
       "399      0.0          0.0      0.0     0.0  0.000000  \n",
       "\n",
       "[4000 rows x 6188 columns]"
      ]
     },
     "execution_count": 11,
     "metadata": {},
     "output_type": "execute_result"
    }
   ],
   "source": [
    "all_data"
   ]
  },
  {
   "cell_type": "code",
   "execution_count": 12,
   "id": "occupied-recognition",
   "metadata": {},
   "outputs": [
    {
     "data": {
      "text/plain": [
       "(4000, 6188)"
      ]
     },
     "execution_count": 12,
     "metadata": {},
     "output_type": "execute_result"
    }
   ],
   "source": [
    "all_data.shape"
   ]
  },
  {
   "cell_type": "markdown",
   "id": "outdoor-treasury",
   "metadata": {},
   "source": [
    "**Plot the data**\n",
    "- Use umap with 20 neighbours to get lower dim for plotting\n",
    "- Create a data frame with umap dims and labels as an extra column\n",
    "- Use seaborn to scatterplot and colour by cell type"
   ]
  },
  {
   "cell_type": "code",
   "execution_count": 19,
   "id": "identified-variation",
   "metadata": {},
   "outputs": [
    {
     "data": {
      "text/plain": [
       "[<matplotlib.lines.Line2D at 0x7f247ee85978>]"
      ]
     },
     "execution_count": 19,
     "metadata": {},
     "output_type": "execute_result"
    },
    {
     "data": {
      "image/png": "[encoded data removed]",
      "text/plain": [
       "<Figure size 432x288 with 1 Axes>"
      ]
     },
     "metadata": {},
     "output_type": "display_data"
    }
   ],
   "source": [
    "#from umap function use UMAP library with given parameters\n",
    "umap_instance = umap.UMAP(n_components = 2, n_neighbors = 20)\n",
    "umap_transformed = umap_instance.fit_transform(all_data)\n",
    "#plot first vs second component\n",
    "#markersize changes the size of the dots\n",
    "plt.plot(umap_transformed[:,0], umap_transformed[:,1], \"o\", markersize = 0.5)"
   ]
  },
  {
   "cell_type": "markdown",
   "id": "national-showcase",
   "metadata": {},
   "source": [
    "Create a data frame with umap dims and labels as an extra column   \n",
    "Use seaborn to scatterplot and colour by cell type  \n",
    "This will enable us to see different colours for each cell type"
   ]
  },
  {
   "cell_type": "code",
   "execution_count": 40,
   "id": "selective-rebate",
   "metadata": {},
   "outputs": [
    {
     "data": {
      "text/html": [
       "<div>\n",
       "<style scoped>\n",
       "    .dataframe tbody tr th:only-of-type {\n",
       "        vertical-align: middle;\n",
       "    }\n",
       "\n",
       "    .dataframe tbody tr th {\n",
       "        vertical-align: top;\n",
       "    }\n",
       "\n",
       "    .dataframe thead th {\n",
       "        text-align: right;\n",
       "    }\n",
       "</style>\n",
       "<table border=\"1\" class=\"dataframe\">\n",
       "  <thead>\n",
       "    <tr style=\"text-align: right;\">\n",
       "      <th></th>\n",
       "      <th>Labels</th>\n",
       "      <th>Dim_1</th>\n",
       "      <th>Dim_2</th>\n",
       "    </tr>\n",
       "  </thead>\n",
       "  <tbody>\n",
       "    <tr>\n",
       "      <th>0</th>\n",
       "      <td>naive_t.gz</td>\n",
       "      <td>15.202</td>\n",
       "      <td>12.5046</td>\n",
       "    </tr>\n",
       "    <tr>\n",
       "      <th>1</th>\n",
       "      <td>naive_t.gz</td>\n",
       "      <td>15.164</td>\n",
       "      <td>12.7678</td>\n",
       "    </tr>\n",
       "    <tr>\n",
       "      <th>2</th>\n",
       "      <td>naive_t.gz</td>\n",
       "      <td>16.361</td>\n",
       "      <td>12.2771</td>\n",
       "    </tr>\n",
       "    <tr>\n",
       "      <th>3</th>\n",
       "      <td>naive_t.gz</td>\n",
       "      <td>16.5897</td>\n",
       "      <td>12.579</td>\n",
       "    </tr>\n",
       "    <tr>\n",
       "      <th>4</th>\n",
       "      <td>naive_t.gz</td>\n",
       "      <td>16.057</td>\n",
       "      <td>11.8775</td>\n",
       "    </tr>\n",
       "    <tr>\n",
       "      <th>...</th>\n",
       "      <td>...</td>\n",
       "      <td>...</td>\n",
       "      <td>...</td>\n",
       "    </tr>\n",
       "    <tr>\n",
       "      <th>3995</th>\n",
       "      <td>naive_cytotoxic.gz</td>\n",
       "      <td>16.4921</td>\n",
       "      <td>9.22889</td>\n",
       "    </tr>\n",
       "    <tr>\n",
       "      <th>3996</th>\n",
       "      <td>naive_cytotoxic.gz</td>\n",
       "      <td>16.7479</td>\n",
       "      <td>9.30036</td>\n",
       "    </tr>\n",
       "    <tr>\n",
       "      <th>3997</th>\n",
       "      <td>naive_cytotoxic.gz</td>\n",
       "      <td>16.8136</td>\n",
       "      <td>9.69618</td>\n",
       "    </tr>\n",
       "    <tr>\n",
       "      <th>3998</th>\n",
       "      <td>naive_cytotoxic.gz</td>\n",
       "      <td>16.0189</td>\n",
       "      <td>9.22635</td>\n",
       "    </tr>\n",
       "    <tr>\n",
       "      <th>3999</th>\n",
       "      <td>naive_cytotoxic.gz</td>\n",
       "      <td>16.8878</td>\n",
       "      <td>9.50822</td>\n",
       "    </tr>\n",
       "  </tbody>\n",
       "</table>\n",
       "<p>4000 rows × 3 columns</p>\n",
       "</div>"
      ],
      "text/plain": [
       "                  Labels    Dim_1    Dim_2\n",
       "0             naive_t.gz   15.202  12.5046\n",
       "1             naive_t.gz   15.164  12.7678\n",
       "2             naive_t.gz   16.361  12.2771\n",
       "3             naive_t.gz  16.5897   12.579\n",
       "4             naive_t.gz   16.057  11.8775\n",
       "...                  ...      ...      ...\n",
       "3995  naive_cytotoxic.gz  16.4921  9.22889\n",
       "3996  naive_cytotoxic.gz  16.7479  9.30036\n",
       "3997  naive_cytotoxic.gz  16.8136  9.69618\n",
       "3998  naive_cytotoxic.gz  16.0189  9.22635\n",
       "3999  naive_cytotoxic.gz  16.8878  9.50822\n",
       "\n",
       "[4000 rows x 3 columns]"
      ]
     },
     "execution_count": 40,
     "metadata": {},
     "output_type": "execute_result"
    }
   ],
   "source": [
    "#create the dataframe. T means transpose (otherwise we get 3 rows x 4000 columns)\n",
    "umap_bloodcells = pd.DataFrame([labels, umap_transformed[:,0], umap_transformed[:,1]]).T\n",
    "#assign column names\n",
    "umap_bloodcells.columns = [\"Labels\", \"Dim_1\", \"Dim_2\"]\n",
    "umap_bloodcells"
   ]
  },
  {
   "cell_type": "code",
   "execution_count": 48,
   "id": "following-rwanda",
   "metadata": {},
   "outputs": [
    {
     "data": {
      "text/plain": [
       "<seaborn.axisgrid.FacetGrid at 0x7f247ec28ef0>"
      ]
     },
     "execution_count": 48,
     "metadata": {},
     "output_type": "execute_result"
    },
    {
     "data": {
      "image/png": "[encoded data removed]",
      "text/plain": [
       "<Figure size 509.225x360 with 1 Axes>"
      ]
     },
     "metadata": {},
     "output_type": "display_data"
    }
   ],
   "source": [
    "#plot using seaborn\n",
    "sns.relplot(data=umap_bloodcells, x=\"Dim_1\", y=\"Dim_2\", hue = \"Labels\")"
   ]
  },
  {
   "cell_type": "markdown",
   "id": "heard-image",
   "metadata": {},
   "source": [
    "## Split data into train and test and run decision tree  \n",
    "- Use “from sklearn.model_selection import train_test_split”\n",
    "- Split the data and the labels into 0.25 test data  \n",
    "- Train the DecisionTreeClassifier  \n",
    "- Use the score method to see how well it predicts\n",
    "- Do this for both the train and test data\n",
    "- Are the values different? What does it mean?"
   ]
  },
  {
   "cell_type": "code",
   "execution_count": 50,
   "id": "connected-batch",
   "metadata": {},
   "outputs": [],
   "source": [
    "#Split the data and the labels into 0.25 test data\n",
    "#define the four separate parts and then perform the split\n",
    "data_train, data_test, labels_train, labels_test = train_test_split(all_data, labels_num, test_size=0.25)"
   ]
  },
  {
   "cell_type": "code",
   "execution_count": 51,
   "id": "metric-triumph",
   "metadata": {},
   "outputs": [],
   "source": [
    "## Create classifier object\n",
    "clf = DecisionTreeClassifier()\n",
    "## Fit the data with the classifier. We are using the default parameters\n",
    "clf = clf.fit(data_train, labels_train)"
   ]
  },
  {
   "cell_type": "code",
   "execution_count": 55,
   "id": "daily-alpha",
   "metadata": {},
   "outputs": [
    {
     "name": "stdout",
     "output_type": "stream",
     "text": [
      "test score is 0.708\n",
      "train score is 1.0\n"
     ]
    }
   ],
   "source": [
    "#score the method\n",
    "test_score = clf.score(data_test, labels_test)\n",
    "print(\"test score is\", test_score)\n",
    "train_score = clf.score(data_train, labels_train)\n",
    "print(\"train score is\", train_score)"
   ]
  },
  {
   "cell_type": "code",
   "execution_count": 56,
   "id": "oriented-effectiveness",
   "metadata": {
    "collapsed": true,
    "jupyter": {
     "outputs_hidden": true
    }
   },
   "outputs": [
    {
     "data": {
      "text/plain": [
       "array([9, 5, 4, 3, 4, 7, 3, 6, 0, 6, 1, 0, 5, 0, 1, 9, 7, 6, 3, 9, 0, 4,\n",
       "       6, 7, 1, 6, 7, 2, 7, 4, 8, 2, 8, 8, 6, 9, 2, 5, 4, 2, 7, 5, 5, 7,\n",
       "       4, 3, 5, 2, 3, 6, 4, 5, 1, 6, 8, 5, 5, 6, 2, 1, 8, 8, 0, 6, 6, 1,\n",
       "       5, 5, 7, 4, 1, 0, 4, 5, 5, 5, 8, 6, 3, 3, 1, 2, 7, 0, 8, 3, 1, 8,\n",
       "       5, 0, 9, 5, 1, 6, 3, 3, 5, 8, 2, 2, 0, 6, 3, 7, 4, 1, 8, 9, 5, 4,\n",
       "       6, 5, 2, 9, 2, 4, 1, 1, 2, 3, 4, 3, 7, 2, 8, 7, 5, 0, 6, 9, 1, 4,\n",
       "       6, 7, 0, 6, 0, 9, 8, 2, 2, 4, 5, 8, 0, 2, 5, 9, 2, 2, 4, 7, 5, 8,\n",
       "       3, 5, 2, 1, 9, 0, 8, 5, 1, 9, 5, 3, 4, 8, 5, 4, 9, 4, 6, 7, 6, 0,\n",
       "       8, 7, 2, 4, 5, 1, 2, 4, 0, 0, 9, 0, 2, 2, 2, 2, 2, 7, 1, 2, 1, 9,\n",
       "       9, 1, 8, 9, 3, 0, 6, 6, 7, 3, 1, 4, 5, 6, 0, 8, 5, 5, 7, 5, 9, 9,\n",
       "       5, 2, 1, 1, 3, 2, 7, 6, 5, 9, 4, 2, 8, 5, 6, 9, 0, 4, 1, 2, 0, 0,\n",
       "       8, 5, 7, 6, 6, 2, 0, 4, 6, 4, 0, 9, 1, 0, 1, 9, 5, 5, 8, 3, 8, 1,\n",
       "       0, 6, 4, 8, 4, 4, 8, 2, 6, 2, 9, 4, 1, 2, 8, 5, 3, 6, 1, 4, 9, 6,\n",
       "       5, 7, 7, 4, 8, 6, 7, 6, 7, 6, 8, 3, 9, 2, 0, 5, 5, 1, 5, 0, 1, 3,\n",
       "       7, 4, 3, 2, 4, 9, 0, 7, 8, 8, 4, 0, 9, 4, 5, 4, 7, 8, 1, 2, 8, 5,\n",
       "       4, 1, 6, 4, 7, 9, 8, 6, 7, 6, 2, 3, 4, 7, 1, 0, 8, 6, 5, 0, 7, 2,\n",
       "       2, 0, 1, 5, 2, 5, 8, 1, 2, 6, 2, 3, 7, 2, 8, 7, 6, 0, 3, 7, 0, 3,\n",
       "       6, 0, 2, 2, 2, 7, 9, 8, 0, 3, 7, 2, 3, 2, 4, 2, 4, 7, 1, 0, 3, 6,\n",
       "       4, 9, 0, 5, 9, 8, 6, 6, 8, 6, 7, 8, 2, 4, 0, 9, 6, 1, 6, 0, 5, 1,\n",
       "       9, 8, 3, 9, 4, 3, 7, 5, 5, 5, 7, 4, 2, 5, 8, 2, 4, 1, 7, 2, 7, 7,\n",
       "       1, 8, 2, 6, 0, 7, 4, 6, 5, 1, 4, 6, 4, 2, 7, 4, 9, 3, 4, 1, 8, 2,\n",
       "       7, 6, 7, 7, 0, 1, 8, 4, 8, 9, 9, 9, 1, 5, 0, 2, 1, 5, 4, 0, 1, 7,\n",
       "       4, 8, 2, 0, 4, 5, 5, 0, 2, 3, 5, 8, 8, 3, 5, 7, 4, 6, 7, 3, 2, 0,\n",
       "       2, 3, 0, 9, 0, 0, 8, 8, 7, 9, 9, 4, 6, 1, 7, 6, 4, 6, 9, 8, 2, 2,\n",
       "       9, 0, 2, 4, 7, 3, 1, 2, 5, 1, 7, 9, 5, 4, 2, 1, 4, 6, 2, 4, 9, 4,\n",
       "       4, 5, 7, 8, 8, 2, 7, 4, 3, 7, 6, 6, 5, 8, 1, 5, 3, 1, 4, 0, 0, 7,\n",
       "       6, 3, 4, 6, 7, 3, 8, 3, 8, 7, 9, 2, 6, 7, 7, 0, 3, 9, 7, 9, 0, 1,\n",
       "       3, 3, 0, 3, 6, 8, 1, 1, 4, 5, 9, 1, 7, 0, 1, 7, 9, 7, 1, 3, 7, 7,\n",
       "       5, 2, 9, 2, 2, 7, 2, 4, 0, 9, 1, 2, 3, 8, 2, 6, 2, 7, 0, 0, 5, 4,\n",
       "       8, 0, 5, 7, 5, 4, 8, 3, 8, 8, 8, 1, 2, 0, 7, 7, 0, 6, 0, 3, 9, 8,\n",
       "       3, 3, 2, 3, 4, 4, 4, 5, 0, 8, 2, 1, 3, 2, 6, 3, 9, 5, 6, 1, 5, 8,\n",
       "       4, 0, 2, 6, 2, 0, 0, 8, 7, 7, 5, 6, 5, 5, 9, 4, 5, 3, 7, 5, 1, 5,\n",
       "       1, 0, 6, 6, 5, 9, 4, 9, 1, 0, 9, 7, 2, 5, 2, 1, 4, 6, 3, 9, 1, 6,\n",
       "       4, 6, 3, 1, 4, 3, 6, 7, 9, 6, 6, 9, 0, 3, 2, 7, 3, 7, 0, 6, 9, 3,\n",
       "       1, 9, 7, 5, 0, 2, 6, 2, 4, 7, 1, 5, 0, 0, 5, 6, 1, 7, 9, 3, 5, 2,\n",
       "       0, 7, 9, 1, 7, 0, 1, 5, 1, 4, 1, 5, 7, 6, 2, 3, 1, 9, 9, 1, 9, 7,\n",
       "       1, 7, 7, 5, 1, 0, 7, 5, 5, 2, 4, 5, 9, 0, 8, 5, 5, 5, 8, 6, 9, 6,\n",
       "       7, 7, 1, 1, 6, 1, 3, 5, 7, 6, 8, 2, 6, 4, 0, 0, 6, 8, 9, 4, 3, 3,\n",
       "       9, 0, 4, 2, 0, 4, 5, 8, 5, 4, 2, 4, 9, 1, 3, 8, 7, 3, 6, 9, 8, 0,\n",
       "       9, 4, 5, 8, 7, 5, 7, 0, 8, 5, 4, 1, 0, 8, 5, 8, 9, 7, 2, 9, 7, 1,\n",
       "       1, 3, 8, 3, 0, 2, 3, 7, 2, 8, 4, 9, 0, 8, 6, 6, 6, 1, 8, 9, 3, 6,\n",
       "       4, 9, 8, 6, 0, 0, 3, 1, 7, 7, 5, 0, 0, 1, 9, 9, 6, 1, 4, 7, 9, 9,\n",
       "       4, 1, 2, 0, 8, 5, 4, 4, 6, 2, 7, 5, 7, 0, 2, 4, 7, 5, 9, 6, 5, 8,\n",
       "       8, 8, 5, 6, 7, 7, 4, 7, 5, 8, 8, 8, 2, 1, 3, 0, 5, 2, 1, 6, 4, 1,\n",
       "       3, 8, 0, 2, 1, 6, 4, 2, 1, 1, 0, 6, 0, 9, 9, 6, 9, 7, 0, 0, 7, 2,\n",
       "       5, 3, 2, 4, 7, 4, 3, 1, 8, 0])"
      ]
     },
     "execution_count": 56,
     "metadata": {},
     "output_type": "execute_result"
    }
   ],
   "source": [
    "#do some predictions\n",
    "clf.predict(data_test) #would need to look at a slice of this data and compare with the train data to be meaningful\n"
   ]
  },
  {
   "cell_type": "markdown",
   "id": "noticed-biodiversity",
   "metadata": {},
   "source": [
    "Random forest  \n",
    "● Train a random forest with the same data  \n",
    "● Calculate the score for training data and test data  \n",
    "    ○ Has it changed?  \n",
    "    ○ Better or worse?  \n",
    "● Change the number of trees used (n_estimators) to 250  \n",
    "    ○ Does it improve the score?  "
   ]
  },
  {
   "cell_type": "code",
   "execution_count": 60,
   "id": "promising-failure",
   "metadata": {},
   "outputs": [],
   "source": [
    "clf_forest = RandomForestClassifier(n_estimators = 250) #including estimators improves the outcome\n",
    "clf_forest = clf_forest.fit(data_train, labels_train)"
   ]
  },
  {
   "cell_type": "code",
   "execution_count": 61,
   "id": "bound-produce",
   "metadata": {},
   "outputs": [
    {
     "name": "stdout",
     "output_type": "stream",
     "text": [
      "forest test score is 0.846\n",
      "forest train score is 1.0\n"
     ]
    }
   ],
   "source": [
    "#score the method (it shows an improvement over the decision tree classifier)\n",
    "test_score = clf_forest.score(data_test, labels_test)\n",
    "print(\"forest test score is\", test_score)\n",
    "train_score = clf_forest.score(data_train, labels_train)\n",
    "print(\"forest train score is\", train_score)"
   ]
  },
  {
   "cell_type": "markdown",
   "id": "lyric-yemen",
   "metadata": {},
   "source": [
    "- The random forest can calculate the importance for each feature it uses (genes) to classify\n",
    "- Look at the top features (stored in the fit object “feature_importances_”)\n",
    "- Do the top genes make sense?\n",
    "- The feature scoring is known to have a few biases but still very useful"
   ]
  },
  {
   "cell_type": "code",
   "execution_count": 64,
   "id": "proof-sitting",
   "metadata": {},
   "outputs": [
    {
     "data": {
      "text/html": [
       "<div>\n",
       "<style scoped>\n",
       "    .dataframe tbody tr th:only-of-type {\n",
       "        vertical-align: middle;\n",
       "    }\n",
       "\n",
       "    .dataframe tbody tr th {\n",
       "        vertical-align: top;\n",
       "    }\n",
       "\n",
       "    .dataframe thead th {\n",
       "        text-align: right;\n",
       "    }\n",
       "</style>\n",
       "<table border=\"1\" class=\"dataframe\">\n",
       "  <thead>\n",
       "    <tr style=\"text-align: right;\">\n",
       "      <th></th>\n",
       "      <th>importance</th>\n",
       "    </tr>\n",
       "  </thead>\n",
       "  <tbody>\n",
       "    <tr>\n",
       "      <th>CD8B</th>\n",
       "      <td>0.010352</td>\n",
       "    </tr>\n",
       "    <tr>\n",
       "      <th>CD74</th>\n",
       "      <td>0.008797</td>\n",
       "    </tr>\n",
       "    <tr>\n",
       "      <th>HLA-DRB1</th>\n",
       "      <td>0.008627</td>\n",
       "    </tr>\n",
       "    <tr>\n",
       "      <th>HLA-DRA</th>\n",
       "      <td>0.007616</td>\n",
       "    </tr>\n",
       "    <tr>\n",
       "      <th>TYROBP</th>\n",
       "      <td>0.007261</td>\n",
       "    </tr>\n",
       "    <tr>\n",
       "      <th>...</th>\n",
       "      <td>...</td>\n",
       "    </tr>\n",
       "    <tr>\n",
       "      <th>PIK3AP1</th>\n",
       "      <td>0.000000</td>\n",
       "    </tr>\n",
       "    <tr>\n",
       "      <th>ANAPC4</th>\n",
       "      <td>0.000000</td>\n",
       "    </tr>\n",
       "    <tr>\n",
       "      <th>RPP40</th>\n",
       "      <td>0.000000</td>\n",
       "    </tr>\n",
       "    <tr>\n",
       "      <th>NPEPPS</th>\n",
       "      <td>0.000000</td>\n",
       "    </tr>\n",
       "    <tr>\n",
       "      <th>EID2B</th>\n",
       "      <td>0.000000</td>\n",
       "    </tr>\n",
       "  </tbody>\n",
       "</table>\n",
       "<p>6188 rows × 1 columns</p>\n",
       "</div>"
      ],
      "text/plain": [
       "          importance\n",
       "CD8B        0.010352\n",
       "CD74        0.008797\n",
       "HLA-DRB1    0.008627\n",
       "HLA-DRA     0.007616\n",
       "TYROBP      0.007261\n",
       "...              ...\n",
       "PIK3AP1     0.000000\n",
       "ANAPC4      0.000000\n",
       "RPP40       0.000000\n",
       "NPEPPS      0.000000\n",
       "EID2B       0.000000\n",
       "\n",
       "[6188 rows x 1 columns]"
      ]
     },
     "execution_count": 64,
     "metadata": {},
     "output_type": "execute_result"
    }
   ],
   "source": [
    "#make a dataframe of clf_forest.clf.feature_importances_ with column name \"importance\"\n",
    "feature_importances = pd.DataFrame(clf_forest.feature_importances_,\n",
    "                                   index = all_data.columns,\n",
    "                                  columns=['importance']).sort_values('importance', ascending = False)\n",
    "\n",
    "feature_importances\n",
    "#This shows us the which genes are most important for separating the groups"
   ]
  },
  {
   "cell_type": "markdown",
   "id": "straight-cooper",
   "metadata": {},
   "source": [
    "## More classifiers\n",
    "● Choose another two classifiers from the scikit list and repeat  \n",
    "● Are any of them better than the random forest?"
   ]
  },
  {
   "cell_type": "code",
   "execution_count": 66,
   "id": "aquatic-tunnel",
   "metadata": {},
   "outputs": [
    {
     "data": {
      "text/plain": [
       "0.879"
      ]
     },
     "execution_count": 66,
     "metadata": {},
     "output_type": "execute_result"
    }
   ],
   "source": [
    "#choose a different classifier, in this case SVC\n",
    "#they should all give similar answers if they are true.\n",
    "clf_svm = svm.SVC() \n",
    "clf_svm = clf_svm.fit(data_train, labels_train)\n",
    "clf_svm.score(data_test, labels_test)"
   ]
  },
  {
   "cell_type": "markdown",
   "id": "double-hawaii",
   "metadata": {},
   "source": [
    "## Misclassification and plotting\n",
    "● To study the misclassification calculate the confusion matrix  \n",
    "  ○ from sklearn.metrics import confusion_matrix  \n",
    "● Run on the prediction and true labels  \n",
    "● Convert to pandas df to add rows and columns names  \n",
    "  ○ pd.DataFrame(cm, index = data_sets, columns=data_sets)  \n",
    "  ○ Where does the algorithm do well?  \n",
    "  ○ Where does it do poorly  \n",
    "● Plot two umaps next to each other using subfigures  \n",
    "  ○ Colour code one with the true labels  \n",
    "  ○ Colour the other one with the predicted labels  "
   ]
  },
  {
   "cell_type": "markdown",
   "id": "athletic-queensland",
   "metadata": {},
   "source": [
    "## Extra: genes and proteins\n",
    "● Purified populations used CD proteins  \n",
    "● Latest data sets measure these proteins as well as genes  \n",
    "● If you classify the cells with the genes does this give the same CD populations?  \n",
    "● Load latest dataset with protein  \n",
    "https://support.10xgenomics.com/single-cell-gene-expression/datasets/3.1.0/5k_pbmc_protein_v3?  \n",
    "● Process the data divide by total reads per cell x 10,000 (separate the proteins)  \n",
    "● Classify cells with classifier  \n",
    "○ Histogram protein levels for each class  "
   ]
  }
 ],
 "metadata": {
  "kernelspec": {
   "display_name": "Python 3",
   "language": "python",
   "name": "python3"
  },
  "language_info": {
   "codemirror_mode": {
    "name": "ipython",
    "version": 3
   },
   "file_extension": ".py",
   "mimetype": "text/x-python",
   "name": "python",
   "nbconvert_exporter": "python",
   "pygments_lexer": "ipython3",
   "version": "3.6.12"
  }
 },
 "nbformat": 4,
 "nbformat_minor": 5
}
